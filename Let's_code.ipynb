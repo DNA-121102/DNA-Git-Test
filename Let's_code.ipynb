{
  "nbformat": 4,
  "nbformat_minor": 0,
  "metadata": {
    "colab": {
      "provenance": [],
      "mount_file_id": "1iosI5gWfb_TrS7UcsRdfHz36yC1WCWM0",
      "authorship_tag": "ABX9TyNWnhdEGM9mssclSlrrtxgY",
      "include_colab_link": true
    },
    "kernelspec": {
      "name": "python3",
      "display_name": "Python 3"
    },
    "language_info": {
      "name": "python"
    }
  },
  "cells": [
    {
      "cell_type": "markdown",
      "metadata": {
        "id": "view-in-github",
        "colab_type": "text"
      },
      "source": [
        "<a href=\"https://colab.research.google.com/github/DNA-121102/DNA-Git-Test/blob/main/Let's_code.ipynb\" target=\"_parent\"><img src=\"https://colab.research.google.com/assets/colab-badge.svg\" alt=\"Open In Colab\"/></a>"
      ]
    },
    {
      "cell_type": "code",
      "execution_count": 1,
      "metadata": {
        "id": "XHk4Emt4QKN0"
      },
      "outputs": [],
      "source": [
        "import time"
      ]
    },
    {
      "cell_type": "code",
      "source": [
        "print(time.ctime())"
      ],
      "metadata": {
        "id": "5GMhWnRiT7A3"
      },
      "execution_count": null,
      "outputs": []
    }
  ]
}